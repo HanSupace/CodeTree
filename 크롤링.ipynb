{
  "nbformat": 4,
  "nbformat_minor": 0,
  "metadata": {
    "colab": {
      "provenance": [],
      "authorship_tag": "ABX9TyN786ohr2Qxv2x8xiXHcE2T",
      "include_colab_link": true
    },
    "kernelspec": {
      "name": "python3",
      "display_name": "Python 3"
    },
    "language_info": {
      "name": "python"
    }
  },
  "cells": [
    {
      "cell_type": "markdown",
      "metadata": {
        "id": "view-in-github",
        "colab_type": "text"
      },
      "source": [
        "<a href=\"https://colab.research.google.com/github/HanSupace/CodeTree/blob/main/%ED%81%AC%EB%A1%A4%EB%A7%81.ipynb\" target=\"_parent\"><img src=\"https://colab.research.google.com/assets/colab-badge.svg\" alt=\"Open In Colab\"/></a>"
      ]
    },
    {
      "cell_type": "code",
      "execution_count": null,
      "metadata": {
        "id": "3GHdmKA4JIGh"
      },
      "outputs": [],
      "source": [
        "import pandas as pd\n",
        "\n",
        "url = 'https://sports.news.naver.com/wbaseball/record/index?category=mlb&year=2025&league=NL'\n",
        "\n",
        "df = pd.read_html(url)\n",
        "e_winner=df[0].iloc[0]\n",
        "\n",
        "m_winner=df[1].iloc[0]\n",
        "w_winner=df[2].iloc[0]\n",
        "\n",
        "\n",
        "result = pd.concat([e_winner,m_winner,w_winner],axis=1)\n",
        "result.rename(index={'동부지구.1':'1위팀','중부지구.1':'1위팀','서부지구.1':'1위팀'},inplace=True)\n",
        "result.drop(['동부지구','서부지구','중부지구'],axis=0,inplace=True)\n",
        "\n",
        "\n",
        "\n",
        "result.columns=['동부','중부','서부']\n",
        "result = result.groupby(result.index).first()\n",
        "result"
      ]
    }
  ]
}